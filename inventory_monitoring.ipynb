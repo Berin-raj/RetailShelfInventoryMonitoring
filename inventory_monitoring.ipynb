{
 "cells": [
  {
   "cell_type": "code",
   "execution_count": 14,
   "metadata": {},
   "outputs": [
    {
     "name": "stdout",
     "output_type": "stream",
     "text": [
      "Number of objects detected: 0\n"
     ]
    },
    {
     "data": {
      "text/plain": [
       "-1"
      ]
     },
     "execution_count": 14,
     "metadata": {},
     "output_type": "execute_result"
    }
   ],
   "source": [
    "import cv2\n",
    "\n",
    "def detect_objects(image_path, template_path, threshold=0.8):\n",
    "   \n",
    "    img_rgb = cv2.imread(image_path)\n",
    "    img_gray = cv2.cvtColor(img_rgb, cv2.COLOR_BGR2GRAY)\n",
    "    template = cv2.imread(template_path, 0)\n",
    "    w, h = template.shape[::-1]\n",
    "\n",
    "    res = cv2.matchTemplate(img_gray, template, cv2.TM_CCOEFF_NORMED)\n",
    "    loc = np.where(res >= threshold)\n",
    "\n",
    "    objects = []\n",
    "    for pt in zip(*loc[::-1]):\n",
    "        objects.append((pt[0], pt[1], w, h))\n",
    "\n",
    "    return objects\n",
    "\n",
    "def count_objects(objects):\n",
    "    \n",
    "    return len(objects)\n",
    "\n",
    "def draw_bounding_boxes(image_path, objects, output_path=\"detected_objects.jpg\"):\n",
    "    \n",
    "    img = cv2.imread(image_path)\n",
    "    for (x, y, w, h) in objects:\n",
    "        cv2.rectangle(img, (x, y), (x + w, y + h), (0, 255, 0), 2)\n",
    "    cv2.imwrite(output_path, img)\n",
    "\n",
    "# Example usage\n",
    "image_path = \"template.jpg\"\n",
    "template_path = \"test.jpg\"\n",
    "\n",
    "objects = detect_objects(image_path, template_path)\n",
    "num_objects = count_objects(objects)\n",
    "\n",
    "print(f\"Number of objects detected: {num_objects}\")\n",
    "\n",
    "draw_bounding_boxes(image_path, objects)\n",
    "cv2.waitKey(0)"
   ]
  },
  {
   "cell_type": "code",
   "execution_count": 2,
   "metadata": {},
   "outputs": [],
   "source": [
    "import numpy as np"
   ]
  },
  {
   "cell_type": "code",
   "execution_count": 3,
   "metadata": {},
   "outputs": [
    {
     "name": "stdout",
     "output_type": "stream",
     "text": [
      "Requirement already satisfied: opencv-python in c:\\users\\lenovo\\appdata\\local\\programs\\python\\python311\\lib\\site-packages (4.11.0.86)\n",
      "Requirement already satisfied: numpy>=1.21.2 in c:\\users\\lenovo\\appdata\\local\\programs\\python\\python311\\lib\\site-packages (from opencv-python) (2.2.5)\n",
      "Note: you may need to restart the kernel to use updated packages.\n"
     ]
    },
    {
     "name": "stderr",
     "output_type": "stream",
     "text": [
      "\n",
      "[notice] A new release of pip available: 22.3.1 -> 25.1.1\n",
      "[notice] To update, run: python.exe -m pip install --upgrade pip\n"
     ]
    }
   ],
   "source": [
    "pip install opencv-python"
   ]
  },
  {
   "cell_type": "code",
   "execution_count": null,
   "metadata": {},
   "outputs": [],
   "source": [
    "import cv2\n",
    "\n",
    "def detect_objects(image_path, template_path, threshold=0.8):\n",
    "    \"\"\"\n",
    "    Detects objects in an image using template matching.\n",
    "\n",
    "    Args:\n",
    "        image_path (str): Path to the image of the retail shelf.\n",
    "        template_path (str): Path to the template image of the product.\n",
    "        threshold (float): Threshold for matching (0-1).\n",
    "\n",
    "    Returns:\n",
    "        list: List of bounding box coordinates (x, y, w, h) of detected objects.\n",
    "    \"\"\"\n",
    "    img_rgb = cv2.imread(image_path)\n",
    "    img_gray = cv2.cvtColor(img_rgb, cv2.COLOR_BGR2GRAY)\n",
    "    template = cv2.imread(template_path, 0)\n",
    "    w, h = template.shape[::-1]\n",
    "\n",
    "    res = cv2.matchTemplate(img_gray, template, cv2.TM_CCOEFF_NORMED)\n",
    "    loc = np.where(res >= threshold)\n",
    "\n",
    "    objects = []\n",
    "    for pt in zip(*loc[::-1]):\n",
    "        objects.append((pt[0], pt[1], w, h))\n",
    "\n",
    "    return objects\n",
    "\n",
    "def count_objects(objects):\n",
    "    \"\"\"\n",
    "    Counts the number of detected objects.\n",
    "\n",
    "    Args:\n",
    "        objects (list): List of bounding box coordinates.\n",
    "\n",
    "    Returns:\n",
    "        int: Number of objects.\n",
    "    \"\"\"\n",
    "    return len(objects)\n",
    "\n",
    "def draw_bounding_boxes(image_path, objects, output_path=\"detected_objects.jpg\"):\n",
    "    \"\"\"\n",
    "    Draws bounding boxes around detected objects in an image.\n",
    "\n",
    "    Args:\n",
    "        image_path (str): Path to the image.\n",
    "        objects (list): List of bounding box coordinates.\n",
    "        output_path (str): Path to save the output image.\n",
    "    \"\"\"\n",
    "    img = cv2.imread(image_path)\n",
    "    for (x, y, w, h) in objects:\n",
    "        cv2.rectangle(img, (x, y), (x + w, y + h), (0, 255, 0), 2)\n",
    "    cv2.imwrite(output_path, img)\n",
    "\n",
    "# Example usage\n",
    "image_path = \"shelf_image.jpg\"\n",
    "template_path = \"product_template.jpg\"\n",
    "\n",
    "objects = detect_objects(image_path, template_path)\n",
    "num_objects = count_objects(objects)\n",
    "\n",
    "print(f\"Number of objects detected: {num_objects}\")\n",
    "\n",
    "draw_bounding_boxes(image_path, objects)"
   ]
  }
 ],
 "metadata": {
  "kernelspec": {
   "display_name": "Python 3",
   "language": "python",
   "name": "python3"
  },
  "language_info": {
   "codemirror_mode": {
    "name": "ipython",
    "version": 3
   },
   "file_extension": ".py",
   "mimetype": "text/x-python",
   "name": "python",
   "nbconvert_exporter": "python",
   "pygments_lexer": "ipython3",
   "version": "3.11.1"
  },
  "orig_nbformat": 4
 },
 "nbformat": 4,
 "nbformat_minor": 2
}
